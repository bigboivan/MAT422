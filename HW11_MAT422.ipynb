{
  "nbformat": 4,
  "nbformat_minor": 0,
  "metadata": {
    "colab": {
      "provenance": [],
      "authorship_tag": "ABX9TyMBKAovuh2UW42QihWqIrso",
      "include_colab_link": true
    },
    "kernelspec": {
      "name": "python3",
      "display_name": "Python 3"
    },
    "language_info": {
      "name": "python"
    }
  },
  "cells": [
    {
      "cell_type": "markdown",
      "metadata": {
        "id": "view-in-github",
        "colab_type": "text"
      },
      "source": [
        "<a href=\"https://colab.research.google.com/github/bigboivan/MAT422/blob/main/HW11_MAT422.ipynb\" target=\"_parent\"><img src=\"https://colab.research.google.com/assets/colab-badge.svg\" alt=\"Open In Colab\"/></a>"
      ]
    },
    {
      "cell_type": "markdown",
      "source": [
        "Section 3.7 - Neural Networks.\n",
        "\n",
        "The activation function dictates the firing of neurons by calculating the weighted sum and further adding bias to it. The activation function introduces non-linearity to a neuron's output. A common activation function is the hyperbolic tan function."
      ],
      "metadata": {
        "id": "nPlPaOWBgWOx"
      }
    },
    {
      "cell_type": "code",
      "source": [
        "import pandas as pd\n",
        "import numpy as np\n",
        "import matplotlib.pyplot as plt\n",
        "\n",
        "# MAT 422 - Ivan Matyushov\n",
        "\n",
        "# Section 3.7.2 - Activation Functions\n",
        "x = np.linspace(-10, 10, 100)\n",
        "\n",
        "# Compute tanh values\n",
        "y = np.tanh(x)\n",
        "\n",
        "# Plot the function\n",
        "plt.plot(x, y)\n",
        "plt.xlabel('x')\n",
        "plt.ylabel('tanh(x)')\n",
        "plt.title('Tanh Function')\n",
        "plt.grid(True)\n",
        "plt.show()\n"
      ],
      "metadata": {
        "colab": {
          "base_uri": "https://localhost:8080/",
          "height": 472
        },
        "id": "xZQFxIQUtd8J",
        "outputId": "5f8735fa-13ff-48cc-9c30-89bd34f66275"
      },
      "execution_count": 2,
      "outputs": [
        {
          "output_type": "display_data",
          "data": {
            "text/plain": [
              "<Figure size 640x480 with 1 Axes>"
            ],
            "image/png": "[encoded data removed]"
          },
          "metadata": {}
        }
      ]
    },
    {
      "cell_type": "markdown",
      "source": [
        "The Cost Function is a function used to find the mean square error between predicted and actual values of your model. This a function good for predicting the error of your model."
      ],
      "metadata": {
        "id": "C3ujzEZntxMU"
      }
    },
    {
      "cell_type": "code",
      "execution_count": 3,
      "metadata": {
        "colab": {
          "base_uri": "https://localhost:8080/"
        },
        "id": "doEveq0Yaniv",
        "outputId": "75062c87-28b0-469e-8909-8cb0ac5a5631"
      },
      "outputs": [
        {
          "output_type": "stream",
          "name": "stdout",
          "text": [
            "MSE: 0.10999999999999999\n"
          ]
        }
      ],
      "source": [
        "# Section 3.7.3 - Cost Function\n",
        "\n",
        "def mse(y_true, y_pred): # One can write a basic cost function script like so.\n",
        "    return np.mean((y_true - y_pred)**2)\n",
        "\n",
        "y_t = np.array([1, 2, 3])\n",
        "y_p = np.array([1.2, 1.8, 3.5])\n",
        "\n",
        "cost = mse(y_t, y_p)\n",
        "print(\"MSE:\", cost)\n",
        "\n"
      ]
    },
    {
      "cell_type": "markdown",
      "source": [
        "Here I took the same code and dataset from the previous homework and had it predict the calories burned based on the three columns of medication usage, sleep quality, and steps taken. The mean square error is quite large as the calorie differences are still large and get squared so the error gets skewed quite largely."
      ],
      "metadata": {
        "id": "Ga8A11Sup3XW"
      }
    },
    {
      "cell_type": "code",
      "source": [
        "# From previous homework's AI model developped, this same function could be ran\n",
        "# if we break training and testing into 50% of data\n",
        "\n",
        "import math\n",
        "df1 = pd.read_csv('Health_Sleep_Statistics.csv')\n",
        "new_df = df1.loc[:, ['Steps', 'Sleep', 'Calories', 'Medication']]\n",
        "nrows = math.floor(new_df.shape[0] * 0.5) #partition data to train on 50% of data points\n",
        "\n",
        "training = new_df.loc[:nrows]\n",
        "test = new_df.loc[nrows:]\n",
        "cals_array = training['Calories'].to_numpy()\n",
        "\n",
        "print(cals_array)\n",
        "\n",
        "from sklearn.svm import SVC\n",
        "model = SVC()\n",
        "model.fit(training[[\"Steps\", \"Sleep\", \"Medication\"]], training[\"Calories\"])\n",
        "\n",
        "predict = model.predict(test[[\"Steps\", \"Sleep\", \"Medication\"]]) #predict models from rest of data set\n",
        "\n",
        "print(predict)\n",
        "\n",
        "accu = sum(test[\"Calories\"] == predict) / test.shape[0] #compares accuracy of predictions\n",
        "\n",
        "print(cals_array[0:50]-predict)\n",
        "mean_error = np.mean((cals_array[0:50]-predict) ** 2)\n",
        "print(mean_error)\n"
      ],
      "metadata": {
        "colab": {
          "base_uri": "https://localhost:8080/"
        },
        "id": "652DyWCmh220",
        "outputId": "0bc945cb-153a-4b77-a956-dff1a926206a"
      },
      "execution_count": 5,
      "outputs": [
        {
          "output_type": "stream",
          "name": "stdout",
          "text": [
            "[2500 2200 2700 2100 2800 2300 2600 2000 2750 2400 2100 2900 2400 2000\n",
            " 2700 2300 2500 2100 2800 2400 2600 2100 2750 2300 2600 2000 2800 2400\n",
            " 2500 2100 2900 2200 2600 2000 2750 2300 2500 2100 2900 2200 2600 2000\n",
            " 2750 2300 2500 2100 2900 2200 2600 2000 2700]\n",
            "[2600 2100 2600 2100 2600 2300 2600 2100 2600 2100 2600 2100 2600 2300\n",
            " 2600 2100 2600 2100 2600 2100 2600 2300 2600 2100 2600 2100 2600 2100\n",
            " 2600 2300 2600 2100 2600 2100 2600 2100 2600 2300 2600 2100 2600 2100\n",
            " 2600 2100 2600 2300 2600 2100 2600 2100]\n",
            "[-100  100  100    0  200    0    0 -100  150  300 -500  800 -200 -300\n",
            "  100  200 -100    0  200  300    0 -200  150  200    0 -100  200  300\n",
            " -100 -200  300  100    0 -100  150  200 -100 -200  300  100    0 -100\n",
            "  150  200 -100 -200  300  100    0 -100]\n",
            "45000.0\n"
          ]
        }
      ]
    },
    {
      "cell_type": "markdown",
      "source": [
        "This algorithm has two main stages: forward propagation and backpropagation. Forward propagation is where the model makes the predictions and outputs results. Backpropagation refers to the alogirthm going back on the output, checking the error and adjusting the model for the next stage of forward propagation.\n",
        "\n",
        "Backpropagation is necessary for training neural networks. Backpropagation calculates the gradient of the error with respect to the weights of the network. Based on minimizing the error, the model updates the parameters to adjust it and try to improve upon its results. As more iterations take place, the model becomes more accurate. A sigmoid function is used as the activation function for the 'neurons.' The derivative of the sigmoid is used in the gradient of the error. New predictions are made with each iteration."
      ],
      "metadata": {
        "id": "cemqvYU8KfB8"
      }
    },
    {
      "cell_type": "code",
      "source": [
        "# Section 3.7.4 - Backpropagation\n",
        "\n",
        "def sigmoid(x): # Activation function\n",
        "    return 1 / (1 + np.exp(-x))\n",
        "\n",
        "def sigmoid_deriv(x):\n",
        "    return x * (1 - x)\n",
        "\n",
        "# Weights for algorithm\n",
        "np.random.seed(1)\n",
        "weight_in = 1.5 * np.random.random((2, 3)) - 1\n",
        "weight_out = 1.5 * np.random.random((3, 1)) - 1\n",
        "\n",
        "# Data to train on:\n",
        "x = np.array([[0, 0], [0, 1], [1, 0], [1, 1]]) #XOR gate array - only true when one input is true\n",
        "y = np.array([[0], [1], [1], [0]])\n",
        "\n",
        "step = 0.1 # Step size\n",
        "\n",
        "# Training loop\n",
        "n = 10000\n",
        "for i in range(n):\n",
        "\n",
        "    # Forward propagation\n",
        "    hl_input = np.dot(x, weight_in)\n",
        "    hl_output = sigmoid(hl_input)\n",
        "    output = sigmoid(np.dot(hl_output, weight_out))\n",
        "\n",
        "    # Backpropagation\n",
        "    error = y - output\n",
        "    deriv_predicted = error * sigmoid_deriv(output)\n",
        "    error_hl = deriv_predicted.dot(weight_out.T)\n",
        "    deriv_hl = error_hl * sigmoid_deriv(hl_output)\n",
        "\n",
        "    # Update weights\n",
        "    weight_out += hl_output.T.dot(deriv_predicted) * step\n",
        "    weight_in += x.T.dot(deriv_hl) * step\n",
        "\n",
        "# Test the network\n",
        "print(\"Output from neural network after 10000 runs: \")\n",
        "print(output)"
      ],
      "metadata": {
        "id": "Aaax-gOZqPRE",
        "colab": {
          "base_uri": "https://localhost:8080/"
        },
        "outputId": "1c8b5f5f-0c63-4470-f219-9cc0b85cdf53"
      },
      "execution_count": 12,
      "outputs": [
        {
          "output_type": "stream",
          "name": "stdout",
          "text": [
            "Output from neural network after 10000 runs: \n",
            "[[0.08937828]\n",
            " [0.91244685]\n",
            " [0.91323346]\n",
            " [0.51122461]]\n"
          ]
        }
      ]
    },
    {
      "cell_type": "markdown",
      "source": [
        "The output is close to predicting that the 2nd and 3rd outputs should be close to one after 10000 iterations. The first input is close to 0. As the number of runs increases, the 2nd and 3rd outputs get closer to 1 and the first gets closer to 0. The 4th input converges to 0.5 where the model has more trouble."
      ],
      "metadata": {
        "id": "mj3o69zXJdcl"
      }
    }
  ]
}