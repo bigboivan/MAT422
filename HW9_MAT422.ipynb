{
  "nbformat": 4,
  "nbformat_minor": 0,
  "metadata": {
    "colab": {
      "provenance": [],
      "authorship_tag": "ABX9TyPI+gGkM/LLNuMO5ntoLNyH",
      "include_colab_link": true
    },
    "kernelspec": {
      "name": "python3",
      "display_name": "Python 3"
    },
    "language_info": {
      "name": "python"
    }
  },
  "cells": [
    {
      "cell_type": "markdown",
      "metadata": {
        "id": "view-in-github",
        "colab_type": "text"
      },
      "source": [
        "<a href=\"https://colab.research.google.com/github/bigboivan/MAT422/blob/main/HW9_MAT422.ipynb\" target=\"_parent\"><img src=\"https://colab.research.google.com/assets/colab-badge.svg\" alt=\"Open In Colab\"/></a>"
      ]
    },
    {
      "cell_type": "markdown",
      "source": [
        "Homework on Section 3.4 - Logistic Regression.\n",
        "A logistic function is a common S-shaped sigmoid curve with equation:\n",
        "f(x) = L/(1+ e^(x-x0)).\n",
        "The standard logistic function with L = 1, k=1, and x0 = 0, f(x) = 1/(1+e^(-x)).\n",
        "Logistic regression uses the logistic function to model the log-odds or logit of an event. This is used in predictive modeling to take previous events/data to predict some future outcome or dataset. Below, we perform logistic regression on heart health data and see if selecting certain columns can predict the heart disease risk score."
      ],
      "metadata": {
        "id": "W06ZWnJM0sjp"
      }
    },
    {
      "cell_type": "code",
      "execution_count": 38,
      "metadata": {
        "colab": {
          "base_uri": "https://localhost:8080/",
          "height": 447
        },
        "id": "WdlGOTkoI3Di",
        "outputId": "0869852a-0fef-4ef5-ccbf-dfa50546837d"
      },
      "outputs": [
        {
          "output_type": "execute_result",
          "data": {
            "text/plain": [
              "[<matplotlib.lines.Line2D at 0x7de96bfc36d0>]"
            ]
          },
          "metadata": {},
          "execution_count": 38
        },
        {
          "output_type": "display_data",
          "data": {
            "text/plain": [
              "<Figure size 640x480 with 1 Axes>"
            ],
            "image/png": "[encoded data removed]"
          },
          "metadata": {}
        }
      ],
      "source": [
        "#Section 3.4 - Ivan Matyushov\n",
        "import pandas as pd\n",
        "import numpy as np\n",
        "import matplotlib.pyplot as plt\n",
        "from sklearn.datasets import load_digits\n",
        "from sklearn.linear_model import LogisticRegression\n",
        "from sklearn.metrics import accuracy_score, classification_report, confusion_matrix, roc_curve, auc\n",
        "from sklearn.model_selection import train_test_split\n",
        "from sklearn.preprocessing import StandardScaler\n",
        "\n",
        "#Standard logistic function Plot\n",
        "x = np.linspace(-4,4, 200)\n",
        "y = 1/(1+np.exp(-x)) #standard logistic function equation\n",
        "\n",
        "fig, ax = plt.subplots()\n",
        "ax.plot(x, y)\n",
        "ax.axvline(x=0, color='gray', linestyle='--')\n",
        "plt.plot(x, y, 'b-')"
      ]
    },
    {
      "cell_type": "code",
      "source": [
        "# Logistic Regression w/ 3 data columns\n",
        "df = pd.read_csv('heart_disease.csv')\n",
        "chol = df['chol'] #Cholesterol levels\n",
        "r_bp = df['resting_BP'] #Resting heart rate\n",
        "r_bp = r_bp.astype(int)\n",
        "age = df['age'] #Age of patients\n",
        "hdrs = df['Heart Disease Risk Score'] #Heart Disease Risk Score data\n",
        "\n",
        "data = {'Column1': chol, 'Column2': r_bp, 'Column3': age}\n",
        "df1 = pd.DataFrame(data=data, dtype=np.int8)\n",
        "hdrs = pd.DataFrame(data=hdrs, dtype=np.int8)\n",
        "\n",
        "#Splitting Data\n",
        "X_train, X_test, y_train, y_test = train_test_split(\n",
        "    df1, hdrs, test_size=0.2, random_state=42)\n",
        "\n",
        "#Scaling Data\n",
        "scaler = StandardScaler()\n",
        "x_train = scaler.fit_transform(X_train)\n",
        "\n",
        "#Logistic Regression of Data\n",
        "model = LogisticRegression(solver='liblinear', random_state=0)\n",
        "model.fit(df1, hdrs)\n",
        "\n",
        "\n",
        "\n",
        "\n",
        "#Prediction of data & Confusion Matrix\n",
        "x_test = scaler.transform(X_test)\n",
        "y_pred = model.predict(X_test)\n",
        "confusion_matrix(y_test, y_pred) #Gives array of correct predictions made"
      ],
      "metadata": {
        "colab": {
          "base_uri": "https://localhost:8080/"
        },
        "collapsed": true,
        "id": "IF5dtcgM-gfn",
        "outputId": "afefdd2c-b7b4-4580-9db5-637f9b3cdf2b"
      },
      "execution_count": 45,
      "outputs": [
        {
          "output_type": "stream",
          "name": "stderr",
          "text": [
            "/usr/local/lib/python3.10/dist-packages/sklearn/utils/validation.py:1339: DataConversionWarning: A column-vector y was passed when a 1d array was expected. Please change the shape of y to (n_samples, ), for example using ravel().\n",
            "  y = column_or_1d(y, warn=True)\n"
          ]
        },
        {
          "output_type": "execute_result",
          "data": {
            "text/plain": [
              "array([[ 0,  6,  0,  0,  0,  0,  0,  0,  0,  0,  0],\n",
              "       [ 0, 13,  4,  0,  0,  0,  0,  0,  0,  0,  0],\n",
              "       [ 0,  0, 16, 14,  0,  0,  0,  0,  0,  0,  0],\n",
              "       [ 0,  1,  4,  6, 12,  1, 11,  1,  0,  0,  0],\n",
              "       [ 0,  2,  6,  1,  7,  0, 12,  2,  0,  0,  0],\n",
              "       [ 0,  0,  9,  7,  2,  1, 10,  0,  0,  0,  0],\n",
              "       [ 0,  0,  0,  2,  4,  3, 17,  1,  0,  0,  0],\n",
              "       [ 0,  0,  0,  1,  3,  0,  8,  4,  0,  0,  0],\n",
              "       [ 0,  1,  0,  1,  0,  0,  7,  3,  0,  0,  0],\n",
              "       [ 0,  0,  0,  0,  0,  0,  2,  1,  0,  0,  0],\n",
              "       [ 0,  0,  0,  0,  0,  0,  1,  0,  0,  0,  0]])"
            ]
          },
          "metadata": {},
          "execution_count": 45
        }
      ]
    },
    {
      "cell_type": "code",
      "source": [
        "#Finding the accuracy of the model\n",
        "accuracy = accuracy_score(y_test, y_pred)\n",
        "print('The accuracy of the model was: ', accuracy)\n",
        "print(\"\\nClassification Report:\\n\", classification_report(y_test, y_pred))"
      ],
      "metadata": {
        "colab": {
          "base_uri": "https://localhost:8080/"
        },
        "id": "7SZtW-NKeK5k",
        "outputId": "89a4408f-5f4f-4d0d-b324-8fd084162267"
      },
      "execution_count": 41,
      "outputs": [
        {
          "output_type": "stream",
          "name": "stdout",
          "text": [
            "The accuracy of the model was:  0.30917874396135264\n",
            "\n",
            "Classification Report:\n",
            "               precision    recall  f1-score   support\n",
            "\n",
            "           7       0.00      0.00      0.00         6\n",
            "           8       0.57      0.76      0.65        17\n",
            "           9       0.41      0.53      0.46        30\n",
            "          10       0.19      0.17      0.18        36\n",
            "          11       0.25      0.23      0.24        30\n",
            "          12       0.20      0.03      0.06        29\n",
            "          13       0.25      0.63      0.36        27\n",
            "          14       0.33      0.25      0.29        16\n",
            "          15       0.00      0.00      0.00        12\n",
            "          16       0.00      0.00      0.00         3\n",
            "          17       0.00      0.00      0.00         1\n",
            "\n",
            "    accuracy                           0.31       207\n",
            "   macro avg       0.20      0.24      0.20       207\n",
            "weighted avg       0.26      0.31      0.26       207\n",
            "\n"
          ]
        },
        {
          "output_type": "stream",
          "name": "stderr",
          "text": [
            "/usr/local/lib/python3.10/dist-packages/sklearn/metrics/_classification.py:1531: UndefinedMetricWarning: Precision is ill-defined and being set to 0.0 in labels with no predicted samples. Use `zero_division` parameter to control this behavior.\n",
            "  _warn_prf(average, modifier, f\"{metric.capitalize()} is\", len(result))\n",
            "/usr/local/lib/python3.10/dist-packages/sklearn/metrics/_classification.py:1531: UndefinedMetricWarning: Precision is ill-defined and being set to 0.0 in labels with no predicted samples. Use `zero_division` parameter to control this behavior.\n",
            "  _warn_prf(average, modifier, f\"{metric.capitalize()} is\", len(result))\n",
            "/usr/local/lib/python3.10/dist-packages/sklearn/metrics/_classification.py:1531: UndefinedMetricWarning: Precision is ill-defined and being set to 0.0 in labels with no predicted samples. Use `zero_division` parameter to control this behavior.\n",
            "  _warn_prf(average, modifier, f\"{metric.capitalize()} is\", len(result))\n"
          ]
        }
      ]
    },
    {
      "cell_type": "code",
      "source": [
        "#Logistic Regression with 4 columns of data sets.\n",
        "fbs = df['fbs']\n",
        "fbs = fbs.astype(int)\n",
        "data2 = {'Column1': chol, 'Column2': r_bp, 'Column3': age, 'Column4': fbs}\n",
        "\n",
        "df2 = pd.DataFrame(data=data2, dtype=np.int8)\n",
        "hdrs = pd.DataFrame(data=hdrs, dtype=np.int8)\n",
        "\n",
        "\n",
        "X_train, X_test, y_train, y_test = train_test_split(\n",
        "    df2, hdrs, test_size=0.2, random_state=42)\n",
        "\n",
        "scaler = StandardScaler()\n",
        "x_train = scaler.fit_transform(X_train)\n",
        "\n",
        "model = LogisticRegression(solver='liblinear', random_state=0)\n",
        "model.fit(df2, hdrs)\n",
        "\n",
        "x_test = scaler.transform(X_test)\n",
        "y_pred = model.predict(X_test)\n",
        "confusion_matrix(y_test, y_pred)"
      ],
      "metadata": {
        "colab": {
          "base_uri": "https://localhost:8080/"
        },
        "id": "TwKd1naseppq",
        "outputId": "3766c975-a20c-47a7-f66d-01176fe601eb"
      },
      "execution_count": 49,
      "outputs": [
        {
          "output_type": "stream",
          "name": "stderr",
          "text": [
            "/usr/local/lib/python3.10/dist-packages/sklearn/utils/validation.py:1339: DataConversionWarning: A column-vector y was passed when a 1d array was expected. Please change the shape of y to (n_samples, ), for example using ravel().\n",
            "  y = column_or_1d(y, warn=True)\n"
          ]
        },
        {
          "output_type": "execute_result",
          "data": {
            "text/plain": [
              "array([[ 0,  6,  0,  0,  0,  0,  0,  0,  0,  0,  0],\n",
              "       [ 0, 12,  4,  1,  0,  0,  0,  0,  0,  0,  0],\n",
              "       [ 0,  0, 16, 14,  0,  0,  0,  0,  0,  0,  0],\n",
              "       [ 0,  1,  2, 19, 11,  2,  0,  1,  0,  0,  0],\n",
              "       [ 0,  2,  2,  2, 10,  0, 12,  1,  1,  0,  0],\n",
              "       [ 0,  0,  6,  6,  8,  2,  7,  0,  0,  0,  0],\n",
              "       [ 0,  0,  1, 12,  5,  0,  8,  1,  0,  0,  0],\n",
              "       [ 0,  0,  0,  1,  9,  0,  4,  2,  0,  0,  0],\n",
              "       [ 0,  1,  0,  0,  7,  0,  3,  0,  0,  0,  1],\n",
              "       [ 0,  0,  0,  0,  1,  0,  2,  0,  0,  0,  0],\n",
              "       [ 0,  0,  0,  0,  0,  0,  1,  0,  0,  0,  0]])"
            ]
          },
          "metadata": {},
          "execution_count": 49
        }
      ]
    },
    {
      "cell_type": "code",
      "source": [
        "accuracy1 = accuracy_score(y_test, y_pred)\n",
        "print('The accuracy of the model was: ', accuracy1)\n",
        "print(\"\\nClassification Report:\\n\", classification_report(y_test, y_pred))"
      ],
      "metadata": {
        "colab": {
          "base_uri": "https://localhost:8080/"
        },
        "id": "6jSfyxxgfL6J",
        "outputId": "9c51666f-6d50-44d5-bc6c-fc0519e36198"
      },
      "execution_count": 50,
      "outputs": [
        {
          "output_type": "stream",
          "name": "stdout",
          "text": [
            "The accuracy of the model was:  0.3333333333333333\n",
            "\n",
            "Classification Report:\n",
            "               precision    recall  f1-score   support\n",
            "\n",
            "           7       0.00      0.00      0.00         6\n",
            "           8       0.55      0.71      0.62        17\n",
            "           9       0.52      0.53      0.52        30\n",
            "          10       0.35      0.53      0.42        36\n",
            "          11       0.20      0.33      0.25        30\n",
            "          12       0.50      0.07      0.12        29\n",
            "          13       0.22      0.30      0.25        27\n",
            "          14       0.40      0.12      0.19        16\n",
            "          15       0.00      0.00      0.00        12\n",
            "          16       0.00      0.00      0.00         3\n",
            "          17       0.00      0.00      0.00         1\n",
            "\n",
            "    accuracy                           0.33       207\n",
            "   macro avg       0.25      0.24      0.22       207\n",
            "weighted avg       0.34      0.33      0.30       207\n",
            "\n"
          ]
        },
        {
          "output_type": "stream",
          "name": "stderr",
          "text": [
            "/usr/local/lib/python3.10/dist-packages/sklearn/metrics/_classification.py:1531: UndefinedMetricWarning: Precision is ill-defined and being set to 0.0 in labels with no predicted samples. Use `zero_division` parameter to control this behavior.\n",
            "  _warn_prf(average, modifier, f\"{metric.capitalize()} is\", len(result))\n",
            "/usr/local/lib/python3.10/dist-packages/sklearn/metrics/_classification.py:1531: UndefinedMetricWarning: Precision is ill-defined and being set to 0.0 in labels with no predicted samples. Use `zero_division` parameter to control this behavior.\n",
            "  _warn_prf(average, modifier, f\"{metric.capitalize()} is\", len(result))\n",
            "/usr/local/lib/python3.10/dist-packages/sklearn/metrics/_classification.py:1531: UndefinedMetricWarning: Precision is ill-defined and being set to 0.0 in labels with no predicted samples. Use `zero_division` parameter to control this behavior.\n",
            "  _warn_prf(average, modifier, f\"{metric.capitalize()} is\", len(result))\n"
          ]
        }
      ]
    },
    {
      "cell_type": "markdown",
      "source": [
        "As we added a 4th column of data from the original dataset, the model became slightly more accurate with predictions of the heart disease risk score."
      ],
      "metadata": {
        "id": "5i4jbkV0joRm"
      }
    }
  ]
}