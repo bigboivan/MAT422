{
  "nbformat": 4,
  "nbformat_minor": 0,
  "metadata": {
    "colab": {
      "provenance": [],
      "authorship_tag": "ABX9TyM1+psUhk0TgtTw2QgWZTm8",
      "include_colab_link": true
    },
    "kernelspec": {
      "name": "python3",
      "display_name": "Python 3"
    },
    "language_info": {
      "name": "python"
    }
  },
  "cells": [
    {
      "cell_type": "markdown",
      "metadata": {
        "id": "view-in-github",
        "colab_type": "text"
      },
      "source": [
        "<a href=\"https://colab.research.google.com/github/bigboivan/MAT422/blob/main/HW3_MAT422.ipynb\" target=\"_parent\"><img src=\"https://colab.research.google.com/assets/colab-badge.svg\" alt=\"Open In Colab\"/></a>"
      ]
    },
    {
      "cell_type": "code",
      "execution_count": 49,
      "metadata": {
        "colab": {
          "base_uri": "https://localhost:8080/",
          "height": 1000
        },
        "id": "Q8esAcp3ilPw",
        "outputId": "df03b097-8434-4a34-eb38-a673301e4410"
      },
      "outputs": [
        {
          "output_type": "stream",
          "name": "stdout",
          "text": [
            "[[17  8]\n",
            " [ 8 17]]\n",
            "[25.  9.]\n",
            "[[ 0.70710678 -0.70710678]\n",
            " [ 0.70710678  0.70710678]]\n",
            "Our U matrix is: \n",
            " [[ 0.70710678 -0.70710678]\n",
            " [ 0.70710678  0.70710678]]\n",
            "Our sigma matrix is: \n",
            " [[5. 0. 0.]\n",
            " [0. 3. 0.]]\n",
            "Our V matrix is: \n",
            " [[ 0.70710678  0.70710678  0.        ]\n",
            " [ 0.23570226 -0.23570226  0.94280904]\n",
            " [ 0.66666667 -0.66666667 -0.33333333]]\n",
            "U multiplied by sigma is: \n",
            " [[ 3.53553391 -2.12132034  0.        ]\n",
            " [ 3.53553391  2.12132034  0.        ]]\n",
            "[[ 2.  3. -2.]\n",
            " [ 3.  2.  2.]]\n",
            "The rank of matrix A is:  2\n",
            "[[3.53553391 0.         0.        ]\n",
            " [3.53553391 0.         0.        ]]\n",
            "The approximated rank 1 matrix is: \n",
            " [[2.5 2.5 0. ]\n",
            " [2.5 2.5 0. ]]\n",
            "[[1 1]\n",
            " [2 1]\n",
            " [2 4]\n",
            " [3 1]\n",
            " [4 4]\n",
            " [5 2]\n",
            " [6 4]\n",
            " [6 6]\n",
            " [7 6]\n",
            " [8 8]]\n",
            "4.4\n",
            "3.7\n",
            "[[-3.4 -2.7]\n",
            " [-2.4 -2.7]\n",
            " [-2.4  0.3]\n",
            " [-1.4 -2.7]\n",
            " [-0.4  0.3]\n",
            " [ 0.6 -1.7]\n",
            " [ 1.6  0.3]\n",
            " [ 1.6  2.3]\n",
            " [ 2.6  2.3]\n",
            " [ 3.6  4.3]]\n",
            "[[5.6        4.8       ]\n",
            " [4.8        6.01111111]]\n",
            "The eigenvalues of this sigma matrix are: \n",
            " [ 1.00115621 10.6099549 ]\n",
            "The eigenvectors of this sigma matrix are: \n",
            " [[-0.72207509 -0.69181469]\n",
            " [ 0.69181469 -0.72207509]]\n",
            "The first principal component is:  [-0.72207509 -0.69181469]\n",
            "The second principal component is:  [ 0.69181469 -0.72207509]\n"
          ]
        },
        {
          "output_type": "display_data",
          "data": {
            "text/plain": [
              "<Figure size 640x480 with 1 Axes>"
            ],
            "image/png": "[encoded data removed]"
          },
          "metadata": {}
        }
      ],
      "source": [
        "## HW 1 - Ivan Matyushov\n",
        "## MAT 422 - Mathematical Methods in Data Science\n",
        "\n",
        "## Part 1 - Singular Value Decomposition\n",
        "## SVD Factorization breaks down a matrix into three smaller matrices UΣV\n",
        "\n",
        "#The single values can be calculated by taking A*A^T\n",
        "import pandas as pd\n",
        "import numpy as np\n",
        "import matplotlib.pyplot as plt\n",
        "from numpy.linalg import eig # import to use eig function\n",
        "from numpy import linalg as LA\n",
        "A = np.array([[3, 2, 2], [2, 3, -2]])\n",
        "A_At = A @ A.transpose()\n",
        "print(A_At)\n",
        "# Find eigenvalues of A * A^T matrix\n",
        "u,v = eig(A_At)\n",
        "print(u)\n",
        "print(v)\n",
        "U = v #this gives us the U matrix of the UΣV needed\n",
        "print('Our U matrix is: \\n', U)\n",
        "sigma = np.array([[np.sqrt(u[0]),0,0], [0, np.sqrt(u[1]), 0]])\n",
        "print('Our sigma matrix is: \\n', sigma)\n",
        "v1 = np.array([1/np.sqrt(2), 1/np.sqrt(2), 0]) #Unit vector for lambda = 25\n",
        "v2 = np.array([1/np.sqrt(18), -1/np.sqrt(18), 4/np.sqrt(18)]) #Unit vector for lambda = 9\n",
        "v3 = np.array([2/3, -2/3, -1/3])\n",
        "V = np.array([v1, v2, v3])\n",
        "print('Our V matrix is: \\n', V)\n",
        "U_sigma = U @ sigma\n",
        "print('U multiplied by sigma is: \\n', U_sigma)\n",
        "A_confirm = U_sigma @ V\n",
        "print(A_confirm) #This combo gives back A so the SVD decomposition works.\n",
        "\n",
        "## Part 2 - Low-rank approximations\n",
        "rank_check = np.linalg.matrix_rank(A) #checks rank of original matrix A - gives rank 2\n",
        "print('The rank of matrix A is: ', rank_check)\n",
        "sigma = np.array([[np.sqrt(u[0]),0,0], [0, 0, 0]]) #reduces the rank of sigma from rank 2 to rank 1\n",
        "U_sigma1 = U @ sigma\n",
        "print(U_sigma1)\n",
        "A_rank1 = U_sigma1 @ V\n",
        "print('The approximated rank 1 matrix is: \\n', A_rank1) #Estimate is off by quite a bit as the rank is lowered to the lowest rank of 1.\n",
        "\n",
        "## Part 3 - Principal Component Analysis\n",
        "X = np.array([[1, 1], [2, 1], [2,4], [3,1], [4,4], [5,2], [6,4], [6,6], [7,6], [8,8]])\n",
        "print(X)\n",
        "mean_col1 = np.mean(X[:, 0])\n",
        "print(mean_col1)\n",
        "mean_col2 = np.mean(X[:, 1])\n",
        "print(mean_col2)\n",
        "center_X = X - np.array([[4.4, 3.7], [4.4, 3.7], [4.4, 3.7], [4.4, 3.7], [4.4, 3.7], [4.4, 3.7], [4.4, 3.7], [4.4, 3.7], [4.4, 3.7], [4.4, 3.7]])\n",
        "print(center_X)\n",
        "sigma = 1/9 * (np.transpose(center_X) @ center_X)\n",
        "print(sigma)\n",
        "eigenvalues, eigenvectors = LA.eig(sigma)\n",
        "print('The eigenvalues of this sigma matrix are: \\n', eigenvalues)\n",
        "print('The eigenvectors of this sigma matrix are: \\n', eigenvectors)\n",
        "print('The first principal component is: ', eigenvectors[0, :])\n",
        "print('The second principal component is: ', eigenvectors[1, :])\n",
        "\n",
        "\n",
        "# Plot data points\n",
        "plt.scatter(X[:, 0], X[:, 1], c='b', label='Scatter Plot') #Original data points\n",
        "plt.scatter(center_X[:, 0], center_X[:, 1], c='r', label='Scatter Plot') #Centered data points\n",
        "prin_comp1_x=np.array([0, -0.69])\n",
        "prin_comp1_y=np.array([0, -0.72])\n",
        "plt.plot(prin_comp1_x, prin_comp1_y, color='g', label='Principle Component 1') #Green line shows direction of first principle component vector.\n",
        "plt.grid(True)\n",
        "plt.xlabel('X0')\n",
        "plt.ylabel('X1 column')\n",
        "plt.show()\n",
        ""
      ]
    }
  ]
}